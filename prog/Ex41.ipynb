{
 "cells": [
  {
   "cell_type": "markdown",
   "metadata": {},
   "source": [
    "## Example 4.1 (p.76)"
   ]
  },
  {
   "cell_type": "code",
   "execution_count": null,
   "metadata": {},
   "outputs": [],
   "source": [
    "from general import MDP\n",
    "import sys\n",
    "\n",
    "class MDP_ex41(MDP):\n",
    "    dirs = { 'U': (-1,0), 'D': (1,0), 'R': (0,1), 'L': (0,-1) }\n",
    "    \n",
    "    def dyn(self, s, a):\n",
    "\n",
    "        def nxt(s, a):\n",
    "            dy, dx = MDP_ex41.dirs[a]\n",
    "            y, x = s // 4, s % 4\n",
    "            st = 4 * min(3, max(0, y + dy)) + min(3, max(0, x + dx))\n",
    "            return 0 if st == 15 else st\n",
    "\n",
    "        if s == 0: return None\n",
    "        return [(1, nxt(s, a), -1)]\n",
    "\n",
    "    def __init__(self):\n",
    "        super().__init__(list(range(15)), 'URDL', 1.0)\n",
    "\n",
    "    def showValFn(self, v):\n",
    "        def sub(i):\n",
    "            if i == 0 or i == 15: return f'{0: 7.2f}'\n",
    "            return f'{v[i]: 7.2f}'\n",
    "        return '\\n'.join([''.join([sub(y*4 + x) for x in range(4)])\n",
    "                          for y in range(4)])\n",
    "\n",
    "    def saveIntRes(self, ir, fpath):\n",
    "        with open(fpath, 'w') as fp:\n",
    "            for (i, (delta, v)) in enumerate(ir):\n",
    "                print(f'iter = {i:4}, delta = {delta}', file=fp)\n",
    "                print(mdp_e41.showValFn(v), file=fp)\n",
    "                print(file=fp)\n",
    "        print(f'Log was printed into {fpath}.', file=sys.stderr)"
   ]
  },
  {
   "cell_type": "markdown",
   "metadata": {},
   "source": [
    "* mdp_e41 : インスタンス\n",
    "* pol_e41 : 4方向からランダムに選ぶポリシー"
   ]
  },
  {
   "cell_type": "code",
   "execution_count": null,
   "metadata": {},
   "outputs": [],
   "source": [
    "mdp_e41 = MDP_ex41()\n",
    "pol_e41 = { i : [ (0.25, a) for a in mdp_e41.actions ]\n",
    "            for i in range(1, 15) }\n",
    "pol_e41[0] = []"
   ]
  },
  {
   "cell_type": "markdown",
   "metadata": {},
   "source": [
    "#### exc_41()\n",
    "\n",
    "* ポリシー評価を実行する．(ログ出力)\n",
    "    * メソッド policy_eval() は，親クラスである MDP で定義している．"
   ]
  },
  {
   "cell_type": "code",
   "execution_count": null,
   "metadata": {},
   "outputs": [],
   "source": [
    "def exc_41():\n",
    "    v, ir = mdp_e41.policy_eval(pol_e41, intRes=1, thr=0.0001)\n",
    "    mdp_e41.saveIntRes(ir, 'log41.txt')"
   ]
  },
  {
   "cell_type": "code",
   "execution_count": null,
   "metadata": {},
   "outputs": [],
   "source": [
    "exc_41()"
   ]
  },
  {
   "cell_type": "markdown",
   "metadata": {},
   "source": [
    "#### eval_opt_policy()\n",
    "\n",
    "* 最適ポリシーの評価\n",
    "    * 最初に ランダムポリシーを評価して，v0に価値関数を設定．\n",
    "    * この価値関数からポリシーを作る．この場合，たまたま，最適ポリシーが得られる．\n",
    "    * 最適ポリシーを評価する．(ログ出力)"
   ]
  },
  {
   "cell_type": "code",
   "execution_count": null,
   "metadata": {},
   "outputs": [],
   "source": [
    "def eval_opt_policy():\n",
    "    v0, _ = mdp_e41.policy_eval(pol_e41, thr=0.1)\n",
    "    pol_opt, _ = mdp_e41.polValFromV(v0)\n",
    "    v, ir = mdp_e41.policy_eval(pol_opt, intRes=1, thr=0.0001)\n",
    "    mdp_e41.saveIntRes(ir, 'log41a.txt')\n"
   ]
  },
  {
   "cell_type": "code",
   "execution_count": null,
   "metadata": {},
   "outputs": [],
   "source": [
    "eval_opt_policy()"
   ]
  }
 ],
 "metadata": {
  "kernelspec": {
   "display_name": "Python 3",
   "language": "python",
   "name": "python3"
  },
  "language_info": {
   "codemirror_mode": {
    "name": "ipython",
    "version": 3
   },
   "file_extension": ".py",
   "mimetype": "text/x-python",
   "name": "python",
   "nbconvert_exporter": "python",
   "pygments_lexer": "ipython3",
   "version": "3.6.6"
  }
 },
 "nbformat": 4,
 "nbformat_minor": 2
}
