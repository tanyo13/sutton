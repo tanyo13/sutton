{
 "cells": [
  {
   "cell_type": "markdown",
   "metadata": {},
   "source": [
    "## Example 4.2: Jack's Car Rental"
   ]
  },
  {
   "cell_type": "code",
   "execution_count": 4,
   "metadata": {},
   "outputs": [],
   "source": [
    "# Constants\n",
    "gamma = 0.9\n",
    "maxAtSite = [20, 20]\n",
    "maxTrans = 5\n",
    "revRent = 10\n",
    "costTrans = 2\n",
    "expRent = [3, 4]\n",
    "expRet = [3, 2]"
   ]
  },
  {
   "cell_type": "code",
   "execution_count": 5,
   "metadata": {},
   "outputs": [],
   "source": [
    "states = ((x,y) for x in range(maxAtSite[0]) for y in range(maxAtSite[1]))"
   ]
  },
  {
   "cell_type": "code",
   "execution_count": 8,
   "metadata": {},
   "outputs": [],
   "source": [
    "def nxtV(pi, v):\n",
    "    return {(s, -constTrans * pi[s] + gamma * v[s]) for s in states}"
   ]
  },
  {
   "cell_type": "code",
   "execution_count": 10,
   "metadata": {},
   "outputs": [],
   "source": [
    "theta = 0.01\n",
    "def policyEval(pi, v):\n",
    "    while True:\n",
    "        v, prevV = nxtV(v), v\n",
    "        if max((abs(v[s] - prevV[s]) for s in states)) < theta:\n",
    "            return v"
   ]
  },
  {
   "cell_type": "code",
   "execution_count": null,
   "metadata": {},
   "outputs": [],
   "source": []
  }
 ],
 "metadata": {
  "kernelspec": {
   "display_name": "Python 3",
   "language": "python",
   "name": "python3"
  },
  "language_info": {
   "codemirror_mode": {
    "name": "ipython",
    "version": 3
   },
   "file_extension": ".py",
   "mimetype": "text/x-python",
   "name": "python",
   "nbconvert_exporter": "python",
   "pygments_lexer": "ipython3",
   "version": "3.6.6"
  }
 },
 "nbformat": 4,
 "nbformat_minor": 2
}
