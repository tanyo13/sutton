{
 "cells": [
  {
   "cell_type": "markdown",
   "metadata": {},
   "source": [
    "## Example 4.1\n",
    "\n",
    "mv に移動先を設定する．"
   ]
  },
  {
   "cell_type": "code",
   "execution_count": null,
   "metadata": {},
   "outputs": [],
   "source": [
    "mv = [None for _ in range(15)]\n",
    "mv[1] = [1,2,5,0]\n",
    "mv[2] = [2,7,10,5]\n",
    "mv[3] = [3,3,7,2]\n",
    "mv[4] = [0,5,8,4]\n",
    "mv[5] = [1,6,9,4]\n",
    "mv[6] = [2,7,10,5]\n",
    "mv[7] = [3,7,11,6]\n",
    "mv[8] = [4,9,12,8]\n",
    "mv[9] = [5,10,13,8]\n",
    "mv[10] = [6,11,14,9]\n",
    "mv[11] = [7,11,0,10]\n",
    "mv[12] = [8,13,12,12]\n",
    "mv[13] = [9,14,13,12]\n",
    "mv[14] = [10,0,14,13]"
   ]
  },
  {
   "cell_type": "markdown",
   "metadata": {},
   "source": [
    "updV(V): 現在の値のリスト V が与えられたとき，次回のVの値を返す．"
   ]
  },
  {
   "cell_type": "code",
   "execution_count": null,
   "metadata": {},
   "outputs": [],
   "source": [
    "def updV(V):\n",
    "    return [0] + [sum([0.25 * (-1 + V[mv[s][a]]) for a in range(4)])\n",
    "                  for s in range(1, 15)]\n",
    "\n",
    "def mUpdV(V, n):\n",
    "    for _ in range(n):\n",
    "        V = updV(V)\n",
    "    return V"
   ]
  },
  {
   "cell_type": "code",
   "execution_count": null,
   "metadata": {},
   "outputs": [],
   "source": [
    "def showV(V):\n",
    "    def val(i):\n",
    "        return f'{V[i]:10.3f}' if i < 15 else ''\n",
    "    for r in range(4):\n",
    "        print(''.join([val(r*4 + c) for c in range(4)]))"
   ]
  },
  {
   "cell_type": "code",
   "execution_count": null,
   "metadata": {},
   "outputs": [],
   "source": [
    "V = [0 for _ in range(15)]\n",
    "showV(V)"
   ]
  },
  {
   "cell_type": "code",
   "execution_count": null,
   "metadata": {},
   "outputs": [],
   "source": [
    "V = mUpdV(V, 1)\n",
    "showV(V)"
   ]
  },
  {
   "cell_type": "markdown",
   "metadata": {},
   "source": [
    "## Figure 4.1\n",
    "\n",
    "$k = 2$"
   ]
  },
  {
   "cell_type": "code",
   "execution_count": null,
   "metadata": {},
   "outputs": [],
   "source": [
    "V = [0 for _ in range(15)]\n",
    "V = mUpdV(V, 2)\n",
    "showV(V)"
   ]
  },
  {
   "cell_type": "markdown",
   "metadata": {},
   "source": [
    "$k = 3$"
   ]
  },
  {
   "cell_type": "code",
   "execution_count": null,
   "metadata": {},
   "outputs": [],
   "source": [
    "V = [0 for _ in range(15)]\n",
    "V = mUpdV(V, 3)\n",
    "showV(V)"
   ]
  },
  {
   "cell_type": "markdown",
   "metadata": {},
   "source": [
    "$k = 300$"
   ]
  },
  {
   "cell_type": "code",
   "execution_count": null,
   "metadata": {},
   "outputs": [],
   "source": [
    "V = [0 for _ in range(15)]\n",
    "V = mUpdV(V, 300)\n",
    "showV(V)"
   ]
  },
  {
   "cell_type": "code",
   "execution_count": null,
   "metadata": {},
   "outputs": [],
   "source": []
  }
 ],
 "metadata": {
  "kernelspec": {
   "display_name": "Python 3",
   "language": "python",
   "name": "python3"
  },
  "language_info": {
   "codemirror_mode": {
    "name": "ipython",
    "version": 3
   },
   "file_extension": ".py",
   "mimetype": "text/x-python",
   "name": "python",
   "nbconvert_exporter": "python",
   "pygments_lexer": "ipython3",
   "version": "3.6.6"
  }
 },
 "nbformat": 4,
 "nbformat_minor": 2
}
